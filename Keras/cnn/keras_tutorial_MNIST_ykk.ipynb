{
  "nbformat": 4,
  "nbformat_minor": 0,
  "metadata": {
    "colab": {
      "name": "keras_tutorial_MNIST_ykk.ipynb",
      "provenance": [],
      "authorship_tag": "ABX9TyN/izPMNgvoqFl3UcgahbLD",
      "include_colab_link": true
    },
    "kernelspec": {
      "name": "python3",
      "display_name": "Python 3"
    },
    "accelerator": "GPU"
  },
  "cells": [
    {
      "cell_type": "markdown",
      "metadata": {
        "id": "view-in-github",
        "colab_type": "text"
      },
      "source": [
        "<a href=\"https://colab.research.google.com/github/ykkimhgu/dl-tutorial/blob/master/Keras/cnn/keras_tutorial_MNIST_ykk.ipynb\" target=\"_parent\"><img src=\"https://colab.research.google.com/assets/colab-badge.svg\" alt=\"Open In Colab\"/></a>"
      ]
    },
    {
      "cell_type": "markdown",
      "metadata": {
        "id": "Q6EuWiNztT4p",
        "colab_type": "text"
      },
      "source": [
        "**Simple MNIST convnet**\n",
        "\n",
        "Author: fchollet\n",
        "\n",
        "Modifed: YK KIM\n",
        "\n",
        "Last modified: 2020/04/21\n",
        "\n",
        "Description: A simple convnet that achieves ~99% test accuracy on MNIST."
      ]
    },
    {
      "cell_type": "code",
      "metadata": {
        "id": "vGmmBPsYtFBl",
        "colab_type": "code",
        "colab": {}
      },
      "source": [
        "# Setup\n",
        "\n",
        "import numpy as np\n",
        "from tensorflow import keras\n",
        "from tensorflow.keras import layers\n"
      ],
      "execution_count": null,
      "outputs": []
    },
    {
      "cell_type": "code",
      "metadata": {
        "id": "k0xwoQONMdWd",
        "colab_type": "code",
        "colab": {}
      },
      "source": [
        "# Prepare the data. \n",
        "# This tutorial uses MNIST in Keras database\n",
        "\n",
        "# Model / data parameters\n",
        "\n",
        "num_classes=10\n",
        "input_shape=(28, 28,1)"
      ],
      "execution_count": null,
      "outputs": []
    },
    {
      "cell_type": "code",
      "metadata": {
        "id": "_wgRTfK1tTr6",
        "colab_type": "code",
        "colab": {
          "base_uri": "https://localhost:8080/",
          "height": 52
        },
        "outputId": "b88bd5f6-ade6-466f-9847-34b560be4c4a"
      },
      "source": [
        "# Option 1)\n",
        "# Download from online database (google storage if colab is used)\n",
        "# Does it store in local drive? If then, Where in local drive does it store? \n",
        "# Need to download everytime it runs?\n",
        "\n",
        "# the data, split between train and test sets. Predefined.\n",
        "# outputx_train, y_train, etc) are numpy data\n",
        "(x_train, y_train), (x_test, y_test)=keras.datasets.mnist.load_data()\n",
        "\n"
      ],
      "execution_count": null,
      "outputs": [
        {
          "output_type": "stream",
          "text": [
            "Downloading data from https://storage.googleapis.com/tensorflow/tf-keras-datasets/mnist.npz\n",
            "11493376/11490434 [==============================] - 0s 0us/step\n"
          ],
          "name": "stdout"
        }
      ]
    },
    {
      "cell_type": "code",
      "metadata": {
        "id": "t5nr_gJV1Mlp",
        "colab_type": "code",
        "colab": {
          "base_uri": "https://localhost:8080/",
          "height": 34
        },
        "outputId": "23133f68-4286-4e8b-92bc-b1c2fb3771c2"
      },
      "source": [
        "# Option 2)  YOu can access your own dataset or stored MNIST from loca google drive\n",
        "from google.colab import drive\n",
        "drive.mount('/content/gdrive')\n",
        "\n",
        "# your all google drive files will be  under  /content/gdrive/My Drive/\n",
        "\n",
        "root_path = '/content/gdrive/My Drive/Colab Notebooks/'  #change dir to your project folder\n",
        "(x_train, y_train), (x_test, y_test)=keras.datasets.mnist.load_data(path=root_path+'dataset/mnist.npz')\n",
        "\n",
        "# how to read 'mnist.npz' using np.load() ?"
      ],
      "execution_count": null,
      "outputs": [
        {
          "output_type": "stream",
          "text": [
            "Drive already mounted at /content/gdrive; to attempt to forcibly remount, call drive.mount(\"/content/gdrive\", force_remount=True).\n"
          ],
          "name": "stdout"
        }
      ]
    },
    {
      "cell_type": "code",
      "metadata": {
        "id": "y-Hm_ph6LUpe",
        "colab_type": "code",
        "colab": {
          "base_uri": "https://localhost:8080/",
          "height": 175
        },
        "outputId": "aedeb10c-d830-42f7-fdd4-306e303ecf1a"
      },
      "source": [
        "# Scale images to [0,1] range for normalization. 8-bit grayscale\n",
        "#  **numpy.ndarray.astype** changes data type\n",
        "x_train=x_train.astype(\"float32\")/255\n",
        "x_test=x_test.astype(\"float32\")/255\n",
        "\n",
        "# Check the dimension of data\n",
        "print(\"check data dim\")\n",
        "print(\"x_train shape:\", x_train.shape)\n",
        "print(\"x_test shape:\", x_test.shape)\n",
        "\n",
        "# make sure images have shape (28, 28, 1)\n",
        "# adds 1 more dimension. \n",
        "# careful not to execute repeatevily. For it augments new axis\n",
        "\n",
        "x_train=np.expand_dims(x_train,-1)\n",
        "x_test=np.expand_dims(x_test,-1)\n",
        "print(\"\\nafter expand_dim\")\n",
        "print(\"x_train shape:\", x_train.shape)\n",
        "print(\"x_test shape:\", x_test.shape)\n",
        "print(x_train.shape[0],\" train samples\")\n",
        "print(x_test.shape[0],\" test samples\")\n",
        "\n"
      ],
      "execution_count": null,
      "outputs": [
        {
          "output_type": "stream",
          "text": [
            "check data dim\n",
            "x_train shape: (60000, 28, 28)\n",
            "x_test shape: (10000, 28, 28)\n",
            "\n",
            "after expand_dim\n",
            "x_train shape: (60000, 28, 28, 1)\n",
            "x_test shape: (10000, 28, 28, 1)\n",
            "60000  train samples\n",
            "10000  test samples\n"
          ],
          "name": "stdout"
        }
      ]
    },
    {
      "cell_type": "code",
      "metadata": {
        "id": "0uECjz7TO9Aj",
        "colab_type": "code",
        "colab": {
          "base_uri": "https://localhost:8080/",
          "height": 122
        },
        "outputId": "56f7fc24-45f2-4549-fb06-999f81e11010"
      },
      "source": [
        "# Convert class vectors to binary class matrices\n",
        "print(\"y_train raw\")\n",
        "display(y_train.shape)\n",
        "display(y_train[0])\n",
        "\n",
        "y_train=keras.utils.to_categorical(y_train, num_classes)\n",
        "y_test=keras.utils.to_categorical(y_test, num_classes)\n",
        "print(\"\\n y_train binary\")\n",
        "display(y_train.shape)\n",
        "#display(y_train)\n",
        "display(y_train[0])"
      ],
      "execution_count": null,
      "outputs": [
        {
          "output_type": "stream",
          "text": [
            "y_train raw\n"
          ],
          "name": "stdout"
        },
        {
          "output_type": "display_data",
          "data": {
            "text/plain": [
              "(60000,)"
            ]
          },
          "metadata": {
            "tags": []
          }
        },
        {
          "output_type": "display_data",
          "data": {
            "text/plain": [
              "5"
            ]
          },
          "metadata": {
            "tags": []
          }
        },
        {
          "output_type": "stream",
          "text": [
            "y_train binary\n"
          ],
          "name": "stdout"
        },
        {
          "output_type": "display_data",
          "data": {
            "text/plain": [
              "(60000, 10)"
            ]
          },
          "metadata": {
            "tags": []
          }
        },
        {
          "output_type": "display_data",
          "data": {
            "text/plain": [
              "array([0., 0., 0., 0., 0., 1., 0., 0., 0., 0.], dtype=float32)"
            ]
          },
          "metadata": {
            "tags": []
          }
        }
      ]
    },
    {
      "cell_type": "markdown",
      "metadata": {
        "id": "V9e94B1vT_kQ",
        "colab_type": "text"
      },
      "source": [
        "# Build the Model"
      ]
    },
    {
      "cell_type": "code",
      "metadata": {
        "id": "yaoi3Dz_RRrl",
        "colab_type": "code",
        "colab": {
          "base_uri": "https://localhost:8080/",
          "height": 369
        },
        "outputId": "c18cb47d-4be9-420e-f1bc-f143aa134700"
      },
      "source": [
        "model=keras.Sequential(\n",
        "    [\n",
        "     keras.Input(shape=input_shape),\n",
        "     layers.Conv2D(32,kernel_size=(3,3), activation=\"relu\"), #(filerNumber=32)\n",
        "     layers.MaxPooling2D(pool_size=(2,2)),\n",
        "     layers.Conv2D(64,kernel_size=(3,3), activation=\"relu\"),\n",
        "     layers.Flatten(),\n",
        "     layers.Dropout(0.5),\n",
        "     layers.Dense(num_classes,activation=\"softmax\"),\n",
        "    ]\n",
        ")\n",
        "model.summary()\n",
        "\n",
        "# Q. How to shuffle channels?"
      ],
      "execution_count": null,
      "outputs": [
        {
          "output_type": "stream",
          "text": [
            "Model: \"sequential\"\n",
            "_________________________________________________________________\n",
            "Layer (type)                 Output Shape              Param #   \n",
            "=================================================================\n",
            "conv2d (Conv2D)              (None, 26, 26, 32)        320       \n",
            "_________________________________________________________________\n",
            "max_pooling2d (MaxPooling2D) (None, 13, 13, 32)        0         \n",
            "_________________________________________________________________\n",
            "conv2d_1 (Conv2D)            (None, 11, 11, 64)        18496     \n",
            "_________________________________________________________________\n",
            "flatten (Flatten)            (None, 7744)              0         \n",
            "_________________________________________________________________\n",
            "dropout (Dropout)            (None, 7744)              0         \n",
            "_________________________________________________________________\n",
            "dense (Dense)                (None, 10)                77450     \n",
            "=================================================================\n",
            "Total params: 96,266\n",
            "Trainable params: 96,266\n",
            "Non-trainable params: 0\n",
            "_________________________________________________________________\n"
          ],
          "name": "stdout"
        }
      ]
    },
    {
      "cell_type": "markdown",
      "metadata": {
        "id": "5GFd1eeiUYmI",
        "colab_type": "text"
      },
      "source": [
        "# Train the model"
      ]
    },
    {
      "cell_type": "code",
      "metadata": {
        "id": "aOJJbZh9T8gF",
        "colab_type": "code",
        "colab": {
          "base_uri": "https://localhost:8080/",
          "height": 582
        },
        "outputId": "1b1bae6a-1a5f-4b12-a4c7-8815a9462d57"
      },
      "source": [
        "batch_size=128\n",
        "epochs=15\n",
        "\n",
        "# See https://www.tensorflow.org/api_docs/python/tf/keras/losses  for more loss functions\n",
        "# Q. How to add your own loss function ?\n",
        "\n",
        "#model.compile(loss='categorical_crossentropy', optimizer=\"adam\", metrics=[\"accuracy\"])\n",
        "        \n",
        "model.compile(loss='categorical_crossentropy', optimizer=\"adam\", metrics=['accuracy','AUC', 'Precision', 'Recall'])\n",
        "model.fit(x_train,y_train,batch_size=batch_size, epochs=epochs, validation_split=0.1)"
      ],
      "execution_count": null,
      "outputs": [
        {
          "output_type": "stream",
          "text": [
            "Epoch 1/15\n",
            "422/422 [==============================] - 3s 7ms/step - loss: 0.0129 - accuracy: 0.9955 - auc: 0.9999 - precision: 0.9958 - recall: 0.9954 - val_loss: 0.0373 - val_accuracy: 0.9917 - val_auc: 0.9989 - val_precision: 0.9922 - val_recall: 0.9917\n",
            "Epoch 2/15\n",
            "422/422 [==============================] - 3s 6ms/step - loss: 0.0122 - accuracy: 0.9958 - auc: 0.9999 - precision: 0.9961 - recall: 0.9956 - val_loss: 0.0406 - val_accuracy: 0.9922 - val_auc: 0.9989 - val_precision: 0.9925 - val_recall: 0.9917\n",
            "Epoch 3/15\n",
            "422/422 [==============================] - 3s 6ms/step - loss: 0.0113 - accuracy: 0.9960 - auc: 0.9999 - precision: 0.9963 - recall: 0.9959 - val_loss: 0.0428 - val_accuracy: 0.9903 - val_auc: 0.9989 - val_precision: 0.9905 - val_recall: 0.9902\n",
            "Epoch 4/15\n",
            "422/422 [==============================] - 3s 6ms/step - loss: 0.0096 - accuracy: 0.9965 - auc: 0.9999 - precision: 0.9966 - recall: 0.9963 - val_loss: 0.0402 - val_accuracy: 0.9918 - val_auc: 0.9989 - val_precision: 0.9920 - val_recall: 0.9918\n",
            "Epoch 5/15\n",
            "422/422 [==============================] - 3s 7ms/step - loss: 0.0115 - accuracy: 0.9961 - auc: 0.9999 - precision: 0.9963 - recall: 0.9960 - val_loss: 0.0398 - val_accuracy: 0.9913 - val_auc: 0.9989 - val_precision: 0.9917 - val_recall: 0.9912\n",
            "Epoch 6/15\n",
            "422/422 [==============================] - 3s 7ms/step - loss: 0.0098 - accuracy: 0.9966 - auc: 0.9999 - precision: 0.9967 - recall: 0.9965 - val_loss: 0.0396 - val_accuracy: 0.9925 - val_auc: 0.9989 - val_precision: 0.9927 - val_recall: 0.9925\n",
            "Epoch 7/15\n",
            "422/422 [==============================] - 3s 6ms/step - loss: 0.0092 - accuracy: 0.9965 - auc: 0.9999 - precision: 0.9966 - recall: 0.9965 - val_loss: 0.0366 - val_accuracy: 0.9925 - val_auc: 0.9989 - val_precision: 0.9927 - val_recall: 0.9923\n",
            "Epoch 8/15\n",
            "422/422 [==============================] - 3s 6ms/step - loss: 0.0078 - accuracy: 0.9972 - auc: 1.0000 - precision: 0.9973 - recall: 0.9971 - val_loss: 0.0377 - val_accuracy: 0.9925 - val_auc: 0.9989 - val_precision: 0.9925 - val_recall: 0.9925\n",
            "Epoch 9/15\n",
            "422/422 [==============================] - 3s 7ms/step - loss: 0.0081 - accuracy: 0.9970 - auc: 0.9999 - precision: 0.9971 - recall: 0.9969 - val_loss: 0.0374 - val_accuracy: 0.9927 - val_auc: 0.9991 - val_precision: 0.9930 - val_recall: 0.9927\n",
            "Epoch 10/15\n",
            "422/422 [==============================] - 3s 7ms/step - loss: 0.0084 - accuracy: 0.9971 - auc: 0.9999 - precision: 0.9971 - recall: 0.9970 - val_loss: 0.0376 - val_accuracy: 0.9928 - val_auc: 0.9990 - val_precision: 0.9930 - val_recall: 0.9928\n",
            "Epoch 11/15\n",
            "422/422 [==============================] - 3s 6ms/step - loss: 0.0074 - accuracy: 0.9974 - auc: 0.9999 - precision: 0.9975 - recall: 0.9974 - val_loss: 0.0360 - val_accuracy: 0.9937 - val_auc: 0.9990 - val_precision: 0.9938 - val_recall: 0.9932\n",
            "Epoch 12/15\n",
            "422/422 [==============================] - 3s 6ms/step - loss: 0.0084 - accuracy: 0.9973 - auc: 0.9999 - precision: 0.9974 - recall: 0.9972 - val_loss: 0.0457 - val_accuracy: 0.9922 - val_auc: 0.9985 - val_precision: 0.9923 - val_recall: 0.9922\n",
            "Epoch 13/15\n",
            "422/422 [==============================] - 3s 6ms/step - loss: 0.0069 - accuracy: 0.9974 - auc: 1.0000 - precision: 0.9975 - recall: 0.9974 - val_loss: 0.0440 - val_accuracy: 0.9918 - val_auc: 0.9987 - val_precision: 0.9923 - val_recall: 0.9917\n",
            "Epoch 14/15\n",
            "422/422 [==============================] - 3s 6ms/step - loss: 0.0078 - accuracy: 0.9973 - auc: 0.9999 - precision: 0.9974 - recall: 0.9973 - val_loss: 0.0379 - val_accuracy: 0.9938 - val_auc: 0.9992 - val_precision: 0.9942 - val_recall: 0.9937\n",
            "Epoch 15/15\n",
            "422/422 [==============================] - 3s 6ms/step - loss: 0.0072 - accuracy: 0.9977 - auc: 0.9999 - precision: 0.9978 - recall: 0.9976 - val_loss: 0.0414 - val_accuracy: 0.9925 - val_auc: 0.9990 - val_precision: 0.9927 - val_recall: 0.9923\n"
          ],
          "name": "stdout"
        },
        {
          "output_type": "execute_result",
          "data": {
            "text/plain": [
              "<tensorflow.python.keras.callbacks.History at 0x7fb54e221550>"
            ]
          },
          "metadata": {
            "tags": []
          },
          "execution_count": 23
        }
      ]
    },
    {
      "cell_type": "markdown",
      "metadata": {
        "id": "Fy2CC58cWKQg",
        "colab_type": "text"
      },
      "source": [
        "# Evaluate the trained model"
      ]
    },
    {
      "cell_type": "code",
      "metadata": {
        "id": "aQO6hj6wWNxU",
        "colab_type": "code",
        "colab": {
          "base_uri": "https://localhost:8080/",
          "height": 105
        },
        "outputId": "fdee8c23-b32d-473e-b62a-64ea6c17157a"
      },
      "source": [
        "score=model.evaluate(x_test, y_test, verbose=0)\n",
        "print(\"Test loss:\", score[0])\n",
        "print(\"Test accuracy: \", score[1])\n",
        "print(\"Test AUC: \", score[2])\n",
        "print(\"Test Precision: \", score[3])\n",
        "print(\"Test Recall: \", score[4])"
      ],
      "execution_count": null,
      "outputs": [
        {
          "output_type": "stream",
          "text": [
            "Test loss: 0.03505240008234978\n",
            "Test accuracy:  0.9912999868392944\n",
            "Test AUC:  0.9988897442817688\n",
            "Test Precision:  0.9916950464248657\n",
            "Test Recall:  0.991100013256073\n"
          ],
          "name": "stdout"
        }
      ]
    },
    {
      "cell_type": "code",
      "metadata": {
        "id": "sB8oo2FYWiTA",
        "colab_type": "code",
        "colab": {}
      },
      "source": [
        "# Exercise\n",
        "\n",
        "## Display precision, AUC, learning rate curves\n",
        "## Show a few test images with the inferred label\n"
      ],
      "execution_count": null,
      "outputs": []
    }
  ]
}